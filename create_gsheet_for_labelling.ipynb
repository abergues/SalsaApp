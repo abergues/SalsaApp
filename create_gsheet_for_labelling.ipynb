{
  "nbformat": 4,
  "nbformat_minor": 0,
  "metadata": {
    "colab": {
      "name": "create_gsheet_for_labelling.ipynb",
      "provenance": [],
      "collapsed_sections": [],
      "include_colab_link": true
    },
    "kernelspec": {
      "name": "python3",
      "display_name": "Python 3"
    },
    "language_info": {
      "name": "python"
    }
  },
  "cells": [
    {
      "cell_type": "markdown",
      "metadata": {
        "id": "view-in-github",
        "colab_type": "text"
      },
      "source": [
        "<a href=\"https://colab.research.google.com/github/abergues/SalsaApp/blob/eero/create_gsheet_for_labelling.ipynb\" target=\"_parent\"><img src=\"https://colab.research.google.com/assets/colab-badge.svg\" alt=\"Open In Colab\"/></a>"
      ]
    },
    {
      "cell_type": "markdown",
      "metadata": {
        "id": "hYPf4gBrJnAl"
      },
      "source": [
        "# Create Google Spreadsheets from the DanceApp output_op/clip_name folder \n",
        "This spreadsheet should \n",
        "* have the name of the clip_name\n",
        "* Contain all frame numbers mathcing jpg images. \n",
        "* Column names for (leader, follower, hands, feet, turn,) figure\n",
        "\n",
        "\n",
        "##Todo#\n",
        "* make a check for existing file. they should not be overwritten.\n",
        "* add some simple layout\n",
        "* move files automatically to the right folder. Now they end up in google drive root.\n",
        "\n",
        "\n",
        "https://github.com/googleapis/google-api-python-client\n",
        "\n",
        "Unfortunately, I just found out that the Google Sheets API, which I had planned to use for creating the spreadsheet where we can add all image frames we want to\n",
        "label, does not support adding images. There are two ways around this:\n",
        "1. Add an URL to the image\n",
        "1. Use a JavaScript Macro to read the folder and add images.\n"
      ]
    },
    {
      "cell_type": "markdown",
      "metadata": {
        "id": "4Y4AGH4DS_BK"
      },
      "source": [
        "## Authorize user"
      ]
    },
    {
      "cell_type": "code",
      "metadata": {
        "id": "EvkUx6DDNDdJ",
        "colab": {
          "base_uri": "https://localhost:8080/"
        },
        "outputId": "44c71e31-48b1-455f-c158-a91ae99a5f09"
      },
      "source": [
        "#### AUTHENTICATE USER/APP on Google\n",
        "\n",
        "from google.colab import auth\n",
        "auth.authenticate_user()\n",
        "from google.colab import drive\n",
        "import gspread\n",
        "from oauth2client.client import GoogleCredentials\n",
        "import os\n",
        "from os.path import exists, join, basename, splitext\n",
        "import glob                       # help for finding files\n",
        "from re import split              # regular expression string splitter\n",
        "import subprocess                 #subprocess wraps around regular os commands\n",
        "import shutil                     # used for copying files in the os.\n",
        "\n",
        "gc = gspread.authorize(GoogleCredentials.get_application_default())\n",
        "\n",
        "drive.mount('/gdrive')   \n",
        "# Google Drive root directory\n",
        "root_path = \"/gdrive/My Drive/DSR/DanceApp/output_op\"\n",
        "\n",
        "os.chdir(root_path)\n",
        "print(\"\\n\", \"Working directory is now \", os.getcwd())\n",
        "# print(\"All files (videos etc) should be placed in \", root_path, \"\\n\")\n",
        "\n",
        "\n"
      ],
      "execution_count": null,
      "outputs": [
        {
          "output_type": "stream",
          "name": "stdout",
          "text": [
            "Drive already mounted at /gdrive; to attempt to forcibly remount, call drive.mount(\"/gdrive\", force_remount=True).\n",
            "\n",
            " Working directory is now  /gdrive/My Drive/DSR/DanceApp/output_op\n"
          ]
        }
      ]
    },
    {
      "cell_type": "markdown",
      "metadata": {
        "id": "1WCYKipDSPgB"
      },
      "source": [
        "## Define which video to label.\n",
        "Just copy the string from \n",
        "[preprocess_videos_to_openpose](https://colab.research.google.com/drive/1pCOJ-Pk2V0Mr_X9Th9xLSRjmwX6AFfjk#scrollTo=2otdDKMgrTAb&line=1&uniqifier=1\n",
        ")"
      ]
    },
    {
      "cell_type": "code",
      "metadata": {
        "colab": {
          "base_uri": "https://localhost:8080/"
        },
        "id": "0fxPmdn0SjcZ",
        "outputId": "35875972-38b0-489d-9a7c-52fd87589257"
      },
      "source": [
        "YOUTUBE_ID, clip_name, start_time, end_time = [\"Xm8w6L1bFoQ\", \"Suzie_Q_ToeTap_HookStep_GhettoFab\" , \"00:10\" , \"01:30\"]\n",
        "\n",
        "print(\"Youtube_id is \", YOUTUBE_ID, \" and clip_name is \", clip_name, \".\")\n",
        "print(\"These are used to put the googlesheet in right folder.\")"
      ],
      "execution_count": null,
      "outputs": [
        {
          "output_type": "stream",
          "name": "stdout",
          "text": [
            "Youtube_id is  Xm8w6L1bFoQ  and clip_name is  Suzie_Q_ToeTap_HookStep_GhettoFab .\n",
            "These are used to put the googlesheet in right folder.\n"
          ]
        }
      ]
    },
    {
      "cell_type": "code",
      "metadata": {
        "colab": {
          "base_uri": "https://localhost:8080/"
        },
        "id": "JwkMCwQvUMYQ",
        "outputId": "e80523f5-6139-4cf6-b0d3-050e8c864137"
      },
      "source": [
        " # print(os.listdir())\n",
        "\n",
        "os.chdir(root_path + \"/\" + clip_name)\n",
        "print(\"\\n\", \"Working directory is now \", os.getcwd())\n",
        "paths_jpg = glob.glob(\"f*.jpeg\")\n",
        "paths_jpg = sorted(paths_jpg, reverse=False)\n",
        "number_of_frames = len(paths_jpg)\n",
        "print(\"there are \", number_of_frames, \" jpg files to label\")\n",
        "print(\"starting with: \", paths_jpg[0], \" and ending with \", paths_jpg[-1]  )\n",
        "\n",
        "# these are used in the cells of the sheet\n",
        "frames_list = [] \n",
        "for frame in paths_jpg:\n",
        "  frame_nr, _ = split(r'[\\.]' , frame)\n",
        "  frames_list.append(frame_nr)\n",
        "\n",
        " \n",
        "date1 = date.today().strftime(\"%Y.%m.%d\")\n",
        "print(\"today is =\", date1)\n",
        "\n",
        "# # Give the new sheet a name\n",
        "sheet_name = \"labels_for_\" + YOUTUBE_ID    "
      ],
      "execution_count": null,
      "outputs": [
        {
          "output_type": "stream",
          "name": "stdout",
          "text": [
            "\n",
            " Working directory is now  /gdrive/My Drive/DSR/DanceApp/output_op/Suzie_Q_ToeTap_HookStep_GhettoFab\n",
            "there are  452  jpg files to label\n",
            "starting with:  frame-000005.jpeg  and ending with  frame-002260.jpeg\n"
          ]
        }
      ]
    },
    {
      "cell_type": "markdown",
      "metadata": {
        "id": "3_cBNB4cSifR"
      },
      "source": [
        "## Create the google spreadsheet\n"
      ]
    },
    {
      "cell_type": "code",
      "metadata": {
        "id": "gzJczBIaNKFX"
      },
      "source": [
        "#### CREATE THE SPREADSHEET\n",
        "# Check : https://python-everything.com/post/87/Google-Sheets-%26-Python:-How-to-read%2C-change-and-add-data%21.html\n",
        "import os\n",
        "from datetime import date\n",
        "from sys import exit\n",
        "import time\n",
        "\n",
        "def create_spreadsheet():\n",
        "   # TODO: this condition is not working yet. Need to use google URL.\n",
        "    if not os.path.isfile(sheet_name):\n",
        "      sh = gc.create(sheet_name)  \n",
        "    else:  \n",
        "      print(\"The sheet exists already. Do you want to replace it?\")\n",
        "      choice = input(\"press Y or n\")\n",
        "      if choice == \"Y\": \n",
        "        sh = gc.create(sheet_name)\n",
        "      else:\n",
        "        sys.exit(0)\n",
        " \n",
        "    # Open our new sheet and add some data.\n",
        "    ws = gc.open(sheet_name).sheet1\n",
        "    #          (row, col, text)\n",
        "    ws.update_cell(1,1 , \"Labels for Video\")\n",
        "    ws.update_cell(2,1 ,\"Youtube_id is\" )\n",
        "    ws.update_cell(2,3 ,YOUTUBE_ID )\n",
        "    ws.update_cell(3,1 ,\"The Video is in folder\" )\n",
        "    ws.update_cell(3,3 ,clip_name )\n",
        "    ws.update_cell(4,1 ,\"file created on\" )\n",
        "    ws.update_cell(4,3 ,date1 )\n",
        "\n",
        "    ws.update_cell(6,1 ,\"Framenumber\")\n",
        "    ws.update_cell(6,2 ,\"Timecode\")\n",
        "    ws.update_cell(6,3 ,\"Figure1\")\n",
        "    ws.update_cell(6,4 ,\"Figure2\")\n",
        "    ws.update_cell(6,5 ,\"Variation1\")\n",
        "    ws.update_cell(6,6 ,\"Variation2\")\n",
        "    ws.update_cell(6,7 ,\"URL\")\n",
        "    ws.update_cell(6,8 ,\"Problem\")\n",
        "    ws.update_cell(6,9 ,\"TODO\")\n",
        "    \n",
        "    # worksheet.update_cells(\"A1:I9\")\n",
        "      \n",
        "    # get number of frames.\n",
        "    # use os.   get names of all jpg in folder\n",
        "\n",
        "    # calculate the timecode (not sure we need this)\n",
        "\n",
        "    # find and add image.  (This is Impossible with colab and python) \n",
        "    # It is only possible to write an url to a cell\n",
        "  \n",
        "    # Create columns\n",
        "    # import random\n",
        "    for i, name in enumerate(frames_list):\n",
        "        on_row = i + 7\n",
        "        time.sleep(0.2)\n",
        "        # Google Sheets api has a quota that must not be exceeded.\n",
        "        # possible solution: create a dataframe, dump this to cell content.\n",
        "        # update all at once.\n",
        "        ws.update_cell(on_row, 1 , frames_list[i])\n",
        "\n",
        "    # worksheet.update_cells(cell_list)\n",
        "    # Go to https://sheets.google.com to see your new spreadsheet.\n",
        "create_spreadsheet()"
      ],
      "execution_count": null,
      "outputs": []
    },
    {
      "cell_type": "code",
      "metadata": {
        "id": "8i1c-Xf9Pbrg"
      },
      "source": [
        "\n"
      ],
      "execution_count": null,
      "outputs": []
    },
    {
      "cell_type": "code",
      "metadata": {
        "id": "0N1cQ1z9P3RX"
      },
      "source": [
        "  "
      ],
      "execution_count": null,
      "outputs": []
    },
    {
      "cell_type": "code",
      "metadata": {
        "id": "eIezsJKtnvRl"
      },
      "source": [
        ""
      ],
      "execution_count": null,
      "outputs": []
    }
  ]
}